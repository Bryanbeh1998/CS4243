{
 "cells": [
  {
   "cell_type": "markdown",
   "metadata": {},
   "source": [
    "# function estimation using neural network\n",
    "## we are going to estimate y=F(x)\n",
    "### amir 2020"
   ]
  },
  {
   "cell_type": "code",
   "execution_count": 2,
   "metadata": {},
   "outputs": [],
   "source": [
    "# import ......\n",
    "#\n",
    "from sklearn.preprocessing import MinMaxScaler\n",
    "from sklearn.metrics import mean_squared_error\n",
    "from sklearn.metrics import mean_absolute_error\n",
    "import tensorflow as tf\n",
    "import numpy as np\n",
    "from tensorflow import keras\n",
    "from tensorflow.keras import layers\n",
    "from tensorflow.keras import Sequential\n",
    "from tensorflow.keras.layers import Dense\n",
    "from numpy import asarray\n",
    "from matplotlib import pyplot as plt\n",
    "%matplotlib inline "
   ]
  },
  {
   "cell_type": "code",
   "execution_count": 3,
   "metadata": {
    "scrolled": true
   },
   "outputs": [
    {
     "name": "stdout",
     "output_type": "stream",
     "text": [
      "-50.0 50.00000000000142 5.048709793414476e-25 2500.000000000142\n"
     ]
    },
    {
     "data": {
      "image/png": "[encoded data removed]",
      "text/plain": [
       "<Figure size 432x288 with 1 Axes>"
      ]
     },
     "metadata": {
      "needs_background": "light"
     },
     "output_type": "display_data"
    }
   ],
   "source": [
    "# define the dataset\n",
    "# input, x \n",
    "x = np.arange(-50,50.1,0.1)\n",
    "# for Y, we can have different functions of x, but mind the math and div by zero etc\n",
    "#\n",
    "# y = asarray([i**3-2*i**2  for i in x ])\n",
    "# y = asarray([(i-1.0)/(2*i+1.0)  for i in x if (i != -0.5)])\n",
    "y = asarray([i**2  for i in x ])\n",
    "print(x.min(), x.max(), y.min(), y.max())\n",
    "plt.plot(x,y)\n",
    "# reshape arrays into into rows and cols\n",
    "x = x.reshape((len(x), 1))\n",
    "y = y.reshape((len(y), 1))\n",
    "\n"
   ]
  },
  {
   "cell_type": "code",
   "execution_count": 4,
   "metadata": {},
   "outputs": [
    {
     "name": "stdout",
     "output_type": "stream",
     "text": [
      "0.0 1.0 0.0 1.0\n"
     ]
    },
    {
     "data": {
      "text/plain": [
       "[<matplotlib.lines.Line2D at 0x28f61cd60>]"
      ]
     },
     "execution_count": 4,
     "metadata": {},
     "output_type": "execute_result"
    },
    {
     "data": {
      "image/png": "[encoded data removed]",
      "text/plain": [
       "<Figure size 432x288 with 1 Axes>"
      ]
     },
     "metadata": {
      "needs_background": "light"
     },
     "output_type": "display_data"
    }
   ],
   "source": [
    "# normalization\n",
    "# separately scale the input and output variables\n",
    "scale_x = MinMaxScaler()\n",
    "x = scale_x.fit_transform(x)\n",
    "scale_y = MinMaxScaler()\n",
    "y = scale_y.fit_transform(y)\n",
    "print(x.min(), x.max(), y.min(), y.max())\n",
    "plt.plot(x,y)"
   ]
  },
  {
   "cell_type": "code",
   "execution_count": 5,
   "metadata": {},
   "outputs": [
    {
     "name": "stdout",
     "output_type": "stream",
     "text": [
      "Metal device set to: Apple M1 Pro\n",
      "\n",
      "systemMemory: 16.00 GB\n",
      "maxCacheSize: 5.33 GB\n",
      "\n",
      "Epoch 1/100\n"
     ]
    },
    {
     "name": "stderr",
     "output_type": "stream",
     "text": [
      "2022-10-17 09:26:36.291066: I tensorflow/core/common_runtime/pluggable_device/pluggable_device_factory.cc:305] Could not identify NUMA node of platform GPU ID 0, defaulting to 0. Your kernel may not have been built with NUMA support.\n",
      "2022-10-17 09:26:36.291202: I tensorflow/core/common_runtime/pluggable_device/pluggable_device_factory.cc:271] Created TensorFlow device (/job:localhost/replica:0/task:0/device:GPU:0 with 0 MB memory) -> physical PluggableDevice (device: 0, name: METAL, pci bus id: <undefined>)\n",
      "2022-10-17 09:26:36.382402: W tensorflow/core/platform/profile_utils/cpu_utils.cc:128] Failed to get CPU frequency: 0 Hz\n"
     ]
    },
    {
     "name": "stdout",
     "output_type": "stream",
     "text": [
      " 11/101 [==>...........................] - ETA: 0s - loss: 0.0957 "
     ]
    },
    {
     "name": "stderr",
     "output_type": "stream",
     "text": [
      "2022-10-17 09:26:36.553639: I tensorflow/core/grappler/optimizers/custom_graph_optimizer_registry.cc:113] Plugin optimizer for device_type GPU is enabled.\n"
     ]
    },
    {
     "name": "stdout",
     "output_type": "stream",
     "text": [
      "101/101 [==============================] - 1s 5ms/step - loss: 0.0907\n",
      "Epoch 2/100\n",
      "101/101 [==============================] - 1s 5ms/step - loss: 0.0895\n",
      "Epoch 3/100\n",
      "101/101 [==============================] - 0s 5ms/step - loss: 0.0895\n",
      "Epoch 4/100\n",
      "101/101 [==============================] - 0s 5ms/step - loss: 0.0882\n",
      "Epoch 5/100\n",
      "101/101 [==============================] - 0s 5ms/step - loss: 0.0876\n",
      "Epoch 6/100\n",
      "101/101 [==============================] - 0s 5ms/step - loss: 0.0874\n",
      "Epoch 7/100\n",
      "101/101 [==============================] - 1s 5ms/step - loss: 0.0856\n",
      "Epoch 8/100\n",
      "101/101 [==============================] - 1s 5ms/step - loss: 0.0853\n",
      "Epoch 9/100\n",
      "101/101 [==============================] - 0s 5ms/step - loss: 0.0845\n",
      "Epoch 10/100\n",
      "101/101 [==============================] - 0s 5ms/step - loss: 0.0832\n",
      "Epoch 11/100\n",
      "101/101 [==============================] - 0s 5ms/step - loss: 0.0824\n",
      "Epoch 12/100\n",
      "101/101 [==============================] - 0s 5ms/step - loss: 0.0814\n",
      "Epoch 13/100\n",
      "101/101 [==============================] - 0s 5ms/step - loss: 0.0807\n",
      "Epoch 14/100\n",
      "101/101 [==============================] - 0s 5ms/step - loss: 0.0797\n",
      "Epoch 15/100\n",
      "101/101 [==============================] - 0s 5ms/step - loss: 0.0786\n",
      "Epoch 16/100\n",
      "101/101 [==============================] - 0s 5ms/step - loss: 0.0780\n",
      "Epoch 17/100\n",
      "101/101 [==============================] - 0s 5ms/step - loss: 0.0765\n",
      "Epoch 18/100\n",
      "101/101 [==============================] - 0s 5ms/step - loss: 0.0752\n",
      "Epoch 19/100\n",
      "101/101 [==============================] - 0s 5ms/step - loss: 0.0744\n",
      "Epoch 20/100\n",
      "101/101 [==============================] - 0s 5ms/step - loss: 0.0731\n",
      "Epoch 21/100\n",
      "101/101 [==============================] - 0s 5ms/step - loss: 0.0725\n",
      "Epoch 22/100\n",
      "101/101 [==============================] - 0s 5ms/step - loss: 0.0710\n",
      "Epoch 23/100\n",
      "101/101 [==============================] - 0s 5ms/step - loss: 0.0694\n",
      "Epoch 24/100\n",
      "101/101 [==============================] - 0s 5ms/step - loss: 0.0677\n",
      "Epoch 25/100\n",
      "101/101 [==============================] - 0s 5ms/step - loss: 0.0661\n",
      "Epoch 26/100\n",
      "101/101 [==============================] - 0s 5ms/step - loss: 0.0643\n",
      "Epoch 27/100\n",
      "101/101 [==============================] - 0s 5ms/step - loss: 0.0632\n",
      "Epoch 28/100\n",
      "101/101 [==============================] - 0s 5ms/step - loss: 0.0609\n",
      "Epoch 29/100\n",
      "101/101 [==============================] - 0s 5ms/step - loss: 0.0594\n",
      "Epoch 30/100\n",
      "101/101 [==============================] - 0s 5ms/step - loss: 0.0573\n",
      "Epoch 31/100\n",
      "101/101 [==============================] - 0s 5ms/step - loss: 0.0554\n",
      "Epoch 32/100\n",
      "101/101 [==============================] - 0s 5ms/step - loss: 0.0530\n",
      "Epoch 33/100\n",
      "101/101 [==============================] - 0s 5ms/step - loss: 0.0509\n",
      "Epoch 34/100\n",
      "101/101 [==============================] - 0s 5ms/step - loss: 0.0489\n",
      "Epoch 35/100\n",
      "101/101 [==============================] - 0s 5ms/step - loss: 0.0466\n",
      "Epoch 36/100\n",
      "101/101 [==============================] - 0s 5ms/step - loss: 0.0441\n",
      "Epoch 37/100\n",
      "101/101 [==============================] - 0s 5ms/step - loss: 0.0417\n",
      "Epoch 38/100\n",
      "101/101 [==============================] - 0s 5ms/step - loss: 0.0391\n",
      "Epoch 39/100\n",
      "101/101 [==============================] - 0s 5ms/step - loss: 0.0366\n",
      "Epoch 40/100\n",
      "101/101 [==============================] - 0s 5ms/step - loss: 0.0342\n",
      "Epoch 41/100\n",
      "101/101 [==============================] - 0s 5ms/step - loss: 0.0315\n",
      "Epoch 42/100\n",
      "101/101 [==============================] - 0s 5ms/step - loss: 0.0292\n",
      "Epoch 43/100\n",
      "101/101 [==============================] - 0s 5ms/step - loss: 0.0266\n",
      "Epoch 44/100\n",
      "101/101 [==============================] - 0s 5ms/step - loss: 0.0243\n",
      "Epoch 45/100\n",
      "101/101 [==============================] - 0s 5ms/step - loss: 0.0221\n",
      "Epoch 46/100\n",
      "101/101 [==============================] - 0s 5ms/step - loss: 0.0199\n",
      "Epoch 47/100\n",
      "101/101 [==============================] - 0s 5ms/step - loss: 0.0181\n",
      "Epoch 48/100\n",
      "101/101 [==============================] - 0s 5ms/step - loss: 0.0162\n",
      "Epoch 49/100\n",
      "101/101 [==============================] - 0s 5ms/step - loss: 0.0145\n",
      "Epoch 50/100\n",
      "101/101 [==============================] - 0s 5ms/step - loss: 0.0130\n",
      "Epoch 51/100\n",
      "101/101 [==============================] - 0s 5ms/step - loss: 0.0119\n",
      "Epoch 52/100\n",
      "101/101 [==============================] - 0s 5ms/step - loss: 0.0108\n",
      "Epoch 53/100\n",
      "101/101 [==============================] - 0s 5ms/step - loss: 0.0098\n",
      "Epoch 54/100\n",
      "101/101 [==============================] - 0s 5ms/step - loss: 0.0090\n",
      "Epoch 55/100\n",
      "101/101 [==============================] - 0s 5ms/step - loss: 0.0083\n",
      "Epoch 56/100\n",
      "101/101 [==============================] - 0s 5ms/step - loss: 0.0078\n",
      "Epoch 57/100\n",
      "101/101 [==============================] - 0s 5ms/step - loss: 0.0073\n",
      "Epoch 58/100\n",
      "101/101 [==============================] - 0s 5ms/step - loss: 0.0070\n",
      "Epoch 59/100\n",
      "101/101 [==============================] - 0s 5ms/step - loss: 0.0066\n",
      "Epoch 60/100\n",
      "101/101 [==============================] - 0s 5ms/step - loss: 0.0062\n",
      "Epoch 61/100\n",
      "101/101 [==============================] - 0s 5ms/step - loss: 0.0058\n",
      "Epoch 62/100\n",
      "101/101 [==============================] - 0s 5ms/step - loss: 0.0056\n",
      "Epoch 63/100\n",
      "101/101 [==============================] - 0s 5ms/step - loss: 0.0054\n",
      "Epoch 64/100\n",
      "101/101 [==============================] - 0s 5ms/step - loss: 0.0051\n",
      "Epoch 65/100\n",
      "101/101 [==============================] - 0s 5ms/step - loss: 0.0049\n",
      "Epoch 66/100\n",
      "101/101 [==============================] - 0s 5ms/step - loss: 0.0046\n",
      "Epoch 67/100\n",
      "101/101 [==============================] - 0s 5ms/step - loss: 0.0044\n",
      "Epoch 68/100\n",
      "101/101 [==============================] - 0s 5ms/step - loss: 0.0041\n",
      "Epoch 69/100\n",
      "101/101 [==============================] - 0s 5ms/step - loss: 0.0040\n",
      "Epoch 70/100\n",
      "101/101 [==============================] - 0s 5ms/step - loss: 0.0038\n",
      "Epoch 71/100\n",
      "101/101 [==============================] - 0s 5ms/step - loss: 0.0036\n",
      "Epoch 72/100\n",
      "101/101 [==============================] - 0s 5ms/step - loss: 0.0034\n",
      "Epoch 73/100\n",
      "101/101 [==============================] - 0s 5ms/step - loss: 0.0032\n",
      "Epoch 74/100\n",
      "101/101 [==============================] - 0s 5ms/step - loss: 0.0031\n",
      "Epoch 75/100\n",
      "101/101 [==============================] - 0s 5ms/step - loss: 0.0029\n",
      "Epoch 76/100\n",
      "101/101 [==============================] - 0s 5ms/step - loss: 0.0027\n",
      "Epoch 77/100\n",
      "101/101 [==============================] - 0s 5ms/step - loss: 0.0026\n",
      "Epoch 78/100\n",
      "101/101 [==============================] - 0s 5ms/step - loss: 0.0024\n",
      "Epoch 79/100\n",
      "101/101 [==============================] - 0s 5ms/step - loss: 0.0023\n",
      "Epoch 80/100\n",
      "101/101 [==============================] - 0s 5ms/step - loss: 0.0022\n",
      "Epoch 81/100\n",
      "101/101 [==============================] - 0s 5ms/step - loss: 0.0021\n",
      "Epoch 82/100\n",
      "101/101 [==============================] - 0s 5ms/step - loss: 0.0020\n",
      "Epoch 83/100\n",
      "101/101 [==============================] - 0s 5ms/step - loss: 0.0019\n",
      "Epoch 84/100\n",
      "101/101 [==============================] - 0s 5ms/step - loss: 0.0018\n",
      "Epoch 85/100\n",
      "101/101 [==============================] - 0s 5ms/step - loss: 0.0017\n",
      "Epoch 86/100\n",
      "101/101 [==============================] - 0s 5ms/step - loss: 0.0016\n",
      "Epoch 87/100\n",
      "101/101 [==============================] - 0s 5ms/step - loss: 0.0016\n",
      "Epoch 88/100\n",
      "101/101 [==============================] - 0s 5ms/step - loss: 0.0015\n",
      "Epoch 89/100\n",
      "101/101 [==============================] - 0s 5ms/step - loss: 0.0015\n",
      "Epoch 90/100\n",
      "101/101 [==============================] - 0s 5ms/step - loss: 0.0014\n",
      "Epoch 91/100\n",
      "101/101 [==============================] - 0s 5ms/step - loss: 0.0014\n",
      "Epoch 92/100\n",
      "101/101 [==============================] - 0s 5ms/step - loss: 0.0014\n",
      "Epoch 93/100\n",
      "101/101 [==============================] - 0s 5ms/step - loss: 0.0013\n",
      "Epoch 94/100\n",
      "101/101 [==============================] - 0s 5ms/step - loss: 0.0012\n",
      "Epoch 95/100\n",
      "101/101 [==============================] - 0s 5ms/step - loss: 0.0012\n",
      "Epoch 96/100\n",
      "101/101 [==============================] - 0s 5ms/step - loss: 0.0012\n",
      "Epoch 97/100\n",
      "101/101 [==============================] - 0s 5ms/step - loss: 0.0011\n",
      "Epoch 98/100\n",
      "101/101 [==============================] - 0s 5ms/step - loss: 0.0011\n",
      "Epoch 99/100\n",
      "101/101 [==============================] - 0s 5ms/step - loss: 0.0010\n",
      "Epoch 100/100\n",
      "101/101 [==============================] - 0s 5ms/step - loss: 0.0010\n",
      "32/32 [==============================] - 0s 5ms/step\n"
     ]
    },
    {
     "name": "stderr",
     "output_type": "stream",
     "text": [
      "2022-10-17 09:27:23.773021: I tensorflow/core/grappler/optimizers/custom_graph_optimizer_registry.cc:113] Plugin optimizer for device_type GPU is enabled.\n"
     ]
    }
   ],
   "source": [
    "# design the neural network model\n",
    "model = Sequential()\n",
    "# defining the input layer\n",
    "model.add(Dense(10, input_dim=1, activation='sigmoid' , kernel_initializer='he_uniform')) \n",
    "# defining the hidden layers \n",
    "model.add(Dense(5, activation='sigmoid', kernel_initializer='he_uniform'))\n",
    "#model.add(Dense(15, activation='relu', kernel_initializer='he_uniform')) \n",
    "# defining the output layer\n",
    "model.add(Dense(1))\n",
    "# define the loss function and optimization algorithm\n",
    "model.compile(loss='mse', optimizer='adam')\n",
    "# fit/train the model on the training dataset\n",
    "model.fit(x, y, epochs=100, batch_size=10, verbose=1)\n",
    "# make predictions for the input data\n",
    "yhat = model.predict(x)\n"
   ]
  },
  {
   "cell_type": "code",
   "execution_count": 6,
   "metadata": {},
   "outputs": [
    {
     "name": "stdout",
     "output_type": "stream",
     "text": [
      "MSE::: 6452.789\n",
      "Root MSE::: 80.329\n",
      "MAE::: 62.794\n"
     ]
    },
    {
     "data": {
      "image/png": "[encoded data removed]",
      "text/plain": [
       "<Figure size 432x288 with 1 Axes>"
      ]
     },
     "metadata": {
      "needs_background": "light"
     },
     "output_type": "display_data"
    }
   ],
   "source": [
    "# inverse transforms, to get back from \n",
    "# normalized to original data\n",
    "#\n",
    "x_plot = scale_x.inverse_transform(x)\n",
    "y_plot = scale_y.inverse_transform(y)\n",
    "yhat_plot = scale_y.inverse_transform(yhat)\n",
    "\n",
    "# report model error\n",
    "print('MSE::: %.3f' % mean_squared_error(y_plot, yhat_plot))\n",
    "print('Root MSE::: %.3f' % mean_squared_error(y_plot, yhat_plot) **0.5)\n",
    "print('MAE::: %.3f' % mean_absolute_error(y_plot, yhat_plot))\n",
    "# plot x vs y, target output, blue\n",
    "plt.scatter(x_plot,y_plot, label='Actual')\n",
    "# plot x vs yhat, NN output, predicted, orange\n",
    "plt.scatter(x_plot,yhat_plot, label='Predicted')\n",
    "plt.title('Input (x) versus Output (y)')\n",
    "plt.xlabel('Input Variable (x)')\n",
    "plt.ylabel('Output Variable (y)')\n",
    "plt.legend()\n",
    "plt.show()"
   ]
  },
  {
   "cell_type": "code",
   "execution_count": 6,
   "metadata": {},
   "outputs": [
    {
     "data": {
      "text/plain": [
       "' \\nnow, you may try this using\\n1- different functions\\n2- different ANN structures (layers, neurons)\\n3- different activation functions\\n4- different training epochs\\n5- with or without normalization\\n\\n'"
      ]
     },
     "execution_count": 6,
     "metadata": {},
     "output_type": "execute_result"
    }
   ],
   "source": [
    "''' \n",
    "now, you may try this using\n",
    "1- different functions\n",
    "2- different ANN structures (layers, neurons)\n",
    "3- different activation functions\n",
    "4- different training epochs\n",
    "5- with or without normalization\n",
    "\n",
    "'''"
   ]
  }
 ],
 "metadata": {
  "kernelspec": {
   "display_name": "Python 3.9.13",
   "language": "python",
   "name": "python3"
  },
  "language_info": {
   "codemirror_mode": {
    "name": "ipython",
    "version": 3
   },
   "file_extension": ".py",
   "mimetype": "text/x-python",
   "name": "python",
   "nbconvert_exporter": "python",
   "pygments_lexer": "ipython3",
   "version": "3.9.13"
  },
  "vscode": {
   "interpreter": {
    "hash": "74a5f64ddd9e28f76452a947b7c216155d372e82d4ef5e83e3a46c003e8ae6ee"
   }
  }
 },
 "nbformat": 4,
 "nbformat_minor": 2
}
