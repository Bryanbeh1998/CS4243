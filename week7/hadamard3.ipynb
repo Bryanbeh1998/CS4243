{
 "cells": [
  {
   "cell_type": "markdown",
   "id": "f338aa22",
   "metadata": {},
   "source": [
    "## Filtering in Hadamard Domain"
   ]
  },
  {
   "cell_type": "code",
   "execution_count": 1,
   "id": "b5210bc9",
   "metadata": {},
   "outputs": [],
   "source": [
    "from scipy.linalg import hadamard\n",
    "import numpy as np\n",
    "import cv2\n",
    "from matplotlib import pyplot as plt\n"
   ]
  },
  {
   "cell_type": "code",
   "execution_count": 2,
   "id": "5748dba3",
   "metadata": {},
   "outputs": [],
   "source": [
    "# Functions that we need"
   ]
  },
  {
   "cell_type": "code",
   "execution_count": 3,
   "id": "3b665ec0",
   "metadata": {},
   "outputs": [],
   "source": [
    "int2bin = lambda x, n: format(x, 'b').zfill(n)"
   ]
  },
  {
   "cell_type": "code",
   "execution_count": 4,
   "id": "2709d9ba",
   "metadata": {},
   "outputs": [],
   "source": [
    "#\n",
    "# The function generates an ideal low pass filter for frequency domain, \n",
    "# M and N are size of the filter/image, D0 is the cut_off point. \n",
    "# \n",
    "def idealLowPass(M, N, D0):\n",
    "    # Initializing the filter with ones; since the filter is a complex function,\n",
    "    # it has two channels, representing the real and imaginary parts:\n",
    "    filter = np.ones((M, N), dtype=np.uint8)\n",
    "    D0 = min(M,N) / 2 * D0\n",
    "    # Scanning through each pixel and calculating the distance of each pixel\n",
    "    # to the image center. If the pixel is within D0, it is changed to 0:\n",
    "    for i in range(M):\n",
    "        for j in range(N):\n",
    "            if ( (i-M/2)**2 + (j-N/2)**2)**0.5 >= D0:\n",
    "                filter[i,j]= 0\n",
    "            \n",
    "    return filter\n"
   ]
  },
  {
   "cell_type": "code",
   "execution_count": 5,
   "id": "f9c6c778",
   "metadata": {},
   "outputs": [],
   "source": [
    "def horder(b,nn): \n",
    "    jj = int2bin(b,nn)\n",
    "    kk = ''\n",
    "    for j in range(nn): \n",
    "        kk = kk+jj[nn-1-j] \n",
    "    \n",
    "    kkk=np.zeros(nn) \n",
    "    kkk[0] = kk[0] \n",
    "    for j in range(1,nn):\n",
    "        kkk[j] = int(kkk[j-1]) ^ int(kk[j]) \n",
    "        \n",
    "    k=0\n",
    "    for j in range(nn):\n",
    "        k = k + int(kkk[j]) * 2**(nn-1-j)  \n",
    "\n",
    "    return int(k)"
   ]
  },
  {
   "cell_type": "code",
   "execution_count": 6,
   "id": "6292c71e",
   "metadata": {},
   "outputs": [],
   "source": [
    "# h = ordhad(n) \n",
    "# generate a n*n ordered hadamard matrix\n",
    "# amir - may 2022\n",
    "#\n",
    "\n",
    "def ordhad(n): \n",
    "    h = hadamard(n)\n",
    "    hh = hadamard(n)\n",
    "    nn = np.log2(n)\n",
    "    for i in range(n):\n",
    "        k = horder(int(i) , int(nn)) \n",
    "        hh[k][:] = h[i][:]\n",
    "\n",
    "    return hh"
   ]
  },
  {
   "cell_type": "code",
   "execution_count": 7,
   "id": "24eb5bf3",
   "metadata": {},
   "outputs": [],
   "source": [
    "# \n",
    "# to generate a lowpass Butterworth filter of the frequency domain  \n",
    "# filter size is MxN, cut_off point of the filter is D0, n_o is the filter order\n",
    "#\n",
    "def ButterworthLowPass(M, N, D0, n_o):\n",
    "    #  \n",
    "    filter = np.zeros((M, N))\n",
    "    # normalized cut_off frequency is mapped to real index\n",
    "    D0 = D0 * min(M,N) / 2\n",
    "    n_o = 2 * n_o\n",
    "    for i in range(M):\n",
    "        for j in range(N):\n",
    "            d = ( (i-M/2)**2 + (j-N/2)**2 )**0.5\n",
    "            filter[i,j]= 1 / ( 1 + (d/D0)**n_o )\n",
    "            \n",
    "    return filter\n"
   ]
  },
  {
   "cell_type": "code",
   "execution_count": 8,
   "id": "0c824b92",
   "metadata": {},
   "outputs": [],
   "source": [
    "def ready_2_show(a, level=255):\n",
    "    a = ( a - np.min(a) ) / (np.max(a) - np.min(a)) \n",
    "    a = a * level\n",
    "    return np.uint8(a)\n"
   ]
  },
  {
   "cell_type": "code",
   "execution_count": 9,
   "id": "2762d0b0",
   "metadata": {},
   "outputs": [],
   "source": [
    "# setting the cut_off frequency to ...\n",
    "ctf= 0.2      # lower cut-off frequency\n",
    "ctf2 = 0.4    # higher cut-off frequency\n",
    "MM = 1024     # we convert the input image into MMxMM size"
   ]
  },
  {
   "cell_type": "code",
   "execution_count": 10,
   "id": "f7534368",
   "metadata": {},
   "outputs": [],
   "source": [
    "# ordered Hadamard Matrix\n",
    "h = ordhad(MM)\n"
   ]
  },
  {
   "cell_type": "code",
   "execution_count": 11,
   "id": "1b78234b",
   "metadata": {},
   "outputs": [],
   "source": [
    "# reading and pre-processing of the image, it will be graylevel and will be converted to MMxMM pixel\n",
    "img = cv2.imread('NINTCHDBPICT0000009753231.jpg')"
   ]
  },
  {
   "cell_type": "code",
   "execution_count": 12,
   "id": "bd6b84eb",
   "metadata": {},
   "outputs": [],
   "source": [
    "img = cv2.cvtColor(img, cv2.COLOR_BGR2GRAY)\n",
    "img = cv2.resize(img,(MM,MM))"
   ]
  },
  {
   "cell_type": "code",
   "execution_count": 13,
   "id": "ee0bd265",
   "metadata": {},
   "outputs": [],
   "source": [
    "# Hadamard Transform\n",
    "HI = np.matmul( h, np.matmul(img,h) )"
   ]
  },
  {
   "cell_type": "code",
   "execution_count": 14,
   "id": "bba5b873",
   "metadata": {},
   "outputs": [
    {
     "data": {
      "text/plain": [
       "'There are three main ways to perform NumPy matrix multiplication:\\ndot(array a, array b) : returns the scalar or dot product of two arrays.\\nmatmul(array a, array b) : returns the matrix product of two arrays.\\nmultiply(array a, array b) : returns the element-wise matrix multiplication of two arrays.'"
      ]
     },
     "execution_count": 14,
     "metadata": {},
     "output_type": "execute_result"
    }
   ],
   "source": [
    "'''There are three main ways to perform NumPy matrix multiplication:\n",
    "dot(array a, array b) : returns the scalar or dot product of two arrays.\n",
    "matmul(array a, array b) : returns the matrix product of two arrays.\n",
    "multiply(array a, array b) : returns the element-wise matrix multiplication of two arrays.'''"
   ]
  },
  {
   "cell_type": "code",
   "execution_count": 15,
   "id": "89bd05d7",
   "metadata": {},
   "outputs": [
    {
     "name": "stdout",
     "output_type": "stream",
     "text": [
      "(1024, 1024)\n"
     ]
    }
   ],
   "source": [
    "# our filters are designed for the Fourier domain, wher ethe origin of frequency access is\n",
    "# in the middle of the matrix. in Hadamard and Cosine cases, that origin is in the [0,0] corner of the matrix\n",
    "# so we go for a double filter size (here 1024x1024), but only keep its 4th quarter [512:1024,512:1024]\n",
    "# that quarter is a good filter for Hadamard domain. \n",
    "# first, lets try a lowpass butterworth filter in hadamard domain, cut-off is ctf, order=2\n",
    "#\n",
    "h_lp_filt = ButterworthLowPass(MM*2,MM*2,ctf,2)\n",
    "h_lp_filt = h_lp_filt[MM:2*MM,MM:2*MM]\n",
    "print(h_lp_filt.shape) \n"
   ]
  },
  {
   "cell_type": "code",
   "execution_count": 16,
   "id": "54886336",
   "metadata": {},
   "outputs": [],
   "source": [
    "# filtering ...\n",
    "HI = np.multiply(HI,h_lp_filt)"
   ]
  },
  {
   "cell_type": "code",
   "execution_count": 17,
   "id": "4d4b7e50",
   "metadata": {},
   "outputs": [
    {
     "name": "stdout",
     "output_type": "stream",
     "text": [
      "[[137.83399228 137.76494762 137.94250867 ...  95.44127005  97.5342106\n",
      "   97.56145154]\n",
      " [137.80959972 137.72534318 137.87479065 ...  95.395283    97.50537181\n",
      "   97.52593467]\n",
      " [137.92767287 137.83359044 137.70856078 ...  94.6228716   96.84434745\n",
      "   96.9226112 ]\n",
      " ...\n",
      " [117.55871201 117.53361321 116.01238734 ... 150.0949558  149.41349351\n",
      "  149.38364227]\n",
      " [117.53615236 117.51818063 116.19365283 ... 149.4933185  148.86594543\n",
      "  148.82055764]\n",
      " [117.53269661 117.51107918 116.15347362 ... 149.51500411 148.86534142\n",
      "  148.82264238]]\n"
     ]
    }
   ],
   "source": [
    "# inverse Hadamard, constant coeeficient is 1/ image size, here: MM**2\n",
    "#\n",
    "h2 = np.dot( np.matmul( h, np.matmul(HI,h)) , 1/(MM**2) )\n",
    "print(h2)"
   ]
  },
  {
   "cell_type": "code",
   "execution_count": 18,
   "id": "b6e5d2fc",
   "metadata": {},
   "outputs": [],
   "source": [
    "\n",
    "# showing the result\n",
    "cv2.namedWindow(\"Hadamard BW-Cyl LP Filtered\", cv2.WINDOW_NORMAL)\n",
    "cv2.imshow(\"Hadamard BW-Cyl LP Filtered\",np.uint8(h2))\n",
    "cv2.namedWindow(\"image\", cv2.WINDOW_NORMAL)\n",
    "cv2.imshow(\"image\",img)\n"
   ]
  },
  {
   "cell_type": "code",
   "execution_count": 19,
   "id": "073de919",
   "metadata": {},
   "outputs": [],
   "source": [
    "# Hadamard Bandpass filtering, Ideal\n",
    "# Had Transform\n",
    "HI = np.matmul( h, np.matmul(img,h) )\n",
    "# building the filter\n",
    "# a double size LP filter, ideal, cut-off=ctf\n",
    "filt1 = idealLowPass(MM*2,MM*2,ctf)\n",
    "# keeping quarter4 of that\n",
    "filt1 = filt1[MM:2*MM,MM:2*MM]\n",
    "# a double size LP filter, ideal, cut-off=ctf2, where ctf2>ctf\n",
    "filt2 = idealLowPass(MM*2,MM*2,ctf2)\n",
    "# keeping quarter4 of that\n",
    "filt2 = filt2[MM:2*MM,MM:2*MM]\n",
    "# configuration of a BP filter for Hadamard domain\n",
    "filt2 = filt2 - filt1\n",
    "# filtering ...\n",
    "HI = np.multiply(HI,filt2)\n",
    "# inverse Hadamard, constant coeeficient is 1/ image size, result in h2\n",
    "h2 = np.dot( np.matmul( h, np.matmul(HI,h)) , 1/(MM**2) )\n"
   ]
  },
  {
   "cell_type": "code",
   "execution_count": 20,
   "id": "96379347",
   "metadata": {},
   "outputs": [],
   "source": [
    "# Hadamard Bandreject filtering, Ideal\n",
    "# Had Transform\n",
    "HI = np.matmul( h, np.matmul(img,h) )\n",
    "# building the band-reject filter, which is indeed 1- bandpass filter\n",
    "filt2 = 1 - filt2 \n",
    "# filtering ...\n",
    "HI = np.multiply(HI,filt2)\n",
    "# inverse Hadamard, constant coeeficient is 1/ image size, result in h3\n",
    "h3 = np.dot( np.matmul( h, np.matmul(HI,h)) , 1/(MM**2) )\n"
   ]
  },
  {
   "cell_type": "code",
   "execution_count": 21,
   "id": "d90276ae",
   "metadata": {},
   "outputs": [],
   "source": [
    "# showing the result\n",
    "# bandpass filtering result\n",
    "cv2.namedWindow(\"Hadamard ideal BP Filt\", cv2.WINDOW_NORMAL)\n",
    "cv2.imshow(\"Hadamard ideal BP Filt\",np.uint8(h2))\n",
    "\n",
    "#bandreject filtering result\n",
    "cv2.namedWindow(\"Hadamard ideal BR Filt\", cv2.WINDOW_NORMAL)\n",
    "cv2.imshow(\"Hadamard ideal BR Filt\",np.uint8(h3) )\n",
    "\n",
    "# the filter\n",
    "cv2.namedWindow(\"The Filter\", cv2.WINDOW_NORMAL)\n",
    "cv2.imshow(\"The Filter\",np.uint8(filt2*200))\n",
    "\n",
    "# ready_to_show function normalizes the elements between zero and level, default: level=255\n",
    "# showing the normalized bandpass filtering result\n",
    "cv2.namedWindow(\"Hadamard ideal BP Filt, ready to show\", cv2.WINDOW_NORMAL)\n",
    "cv2.imshow(\"Hadamard ideal BP Filt, ready to show\",ready_2_show(h2))"
   ]
  },
  {
   "cell_type": "code",
   "execution_count": 22,
   "id": "c27a1115",
   "metadata": {},
   "outputs": [],
   "source": [
    "\n",
    "cv2.waitKey(0)\n",
    "cv2.destroyAllWindows() "
   ]
  },
  {
   "cell_type": "code",
   "execution_count": 23,
   "id": "721e48e2",
   "metadata": {},
   "outputs": [
    {
     "data": {
      "text/plain": [
       "array([[ -4.82155323,  -4.82155323, -10.71194744, ...,   2.08487225,\n",
       "         21.360116  ,  21.360116  ],\n",
       "       [ -4.82155323,  -4.82155323, -10.71194744, ...,   2.08487225,\n",
       "         21.360116  ,  21.360116  ],\n",
       "       [-15.77704906, -15.77704906, -22.82395267, ...,  -6.60941601,\n",
       "         13.90565014,  13.90565014],\n",
       "       ...,\n",
       "       [  6.63051891,   6.63051891,  -4.02652264, ...,   4.68452358,\n",
       "         -0.40146923,  -0.40146923],\n",
       "       [  6.54261875,   6.54261875,  -4.2887392 , ...,   2.40954304,\n",
       "         -2.18800068,  -2.18800068],\n",
       "       [  6.54261875,   6.54261875,  -4.2887392 , ...,   2.40954304,\n",
       "         -2.18800068,  -2.18800068]])"
      ]
     },
     "execution_count": 23,
     "metadata": {},
     "output_type": "execute_result"
    }
   ],
   "source": [
    "# differences between the image and its band-rejected version\n",
    "img - h3 "
   ]
  }
 ],
 "metadata": {
  "kernelspec": {
   "display_name": "Python 3.9.13",
   "language": "python",
   "name": "python3"
  },
  "language_info": {
   "codemirror_mode": {
    "name": "ipython",
    "version": 3
   },
   "file_extension": ".py",
   "mimetype": "text/x-python",
   "name": "python",
   "nbconvert_exporter": "python",
   "pygments_lexer": "ipython3",
   "version": "3.9.13"
  },
  "vscode": {
   "interpreter": {
    "hash": "74a5f64ddd9e28f76452a947b7c216155d372e82d4ef5e83e3a46c003e8ae6ee"
   }
  }
 },
 "nbformat": 4,
 "nbformat_minor": 5
}
