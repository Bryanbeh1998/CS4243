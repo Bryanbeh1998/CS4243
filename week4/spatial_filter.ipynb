{
 "cells": [
  {
   "cell_type": "code",
   "execution_count": null,
   "metadata": {},
   "outputs": [],
   "source": [
    "import cv2\n",
    "import matplotlib.pyplot as plt\n",
    "import numpy as np\n",
    "%matplotlib inline"
   ]
  },
  {
   "cell_type": "code",
   "execution_count": null,
   "metadata": {},
   "outputs": [],
   "source": [
    "im_path = \"../../Examples/set1/IMG_0720.jpg\"\n",
    "im = cv2.cvtColor(plt.imread(im_path), cv2.COLOR_BGR2GRAY)\n",
    "im = plt.imread(im_path)\n",
    "\n",
    "plt.imshow(im)\n"
   ]
  },
  {
   "cell_type": "markdown",
   "metadata": {},
   "source": [
    "### Apply apply GaussianBlur on your images with kernel size 33 and 55"
   ]
  },
  {
   "cell_type": "code",
   "execution_count": null,
   "metadata": {},
   "outputs": [],
   "source": [
    "# add your code here\n",
    "image1 = \n",
    "image2 = \n",
    "\n",
    "fig,ax = plt.subplots(3,1, figsize=(10,20))\n",
    "ax[0].imshow(im)\n",
    "ax[1].imshow(image1)\n",
    "ax[2].imshow(image2)\n"
   ]
  },
  {
   "cell_type": "markdown",
   "metadata": {},
   "source": [
    "### Use the functions in the utils.ipynb to calcuate the entropy, am_power, and energy, of the original images and the filtered images"
   ]
  },
  {
   "cell_type": "code",
   "execution_count": null,
   "metadata": {},
   "outputs": [],
   "source": [
    "def am_entropy(nimg , N=256):\n",
    "    M = nimg.shape\n",
    "    ssz = M[0] * M[1]\n",
    "    hist,bins = np.histogram(nimg.flatten(),N,[0,N])\n",
    "    hist = hist / ssz\n",
    "    ent = -np.sum( hist * np.log2(hist+0.0001))\n",
    "    return ent\n",
    "\n",
    "def am_power(a):\n",
    "    pa = 0.0 \n",
    "    dim1 = a.shape\n",
    "    if len(dim1)==2:\n",
    "        sz = dim1[0] * dim1[1] \n",
    "        for i in range(dim1[0]):\n",
    "            for j in range(dim1[1]):\n",
    "                pa += a[i,j]**2\n",
    "    elif len(dim1)==3:\n",
    "        sz = dim1[0] * dim1[1] * dim1[2]\n",
    "        for i in range(dim1[0]):\n",
    "            for j in range(dim1[1]):\n",
    "                for k in range(dim1[2]):\n",
    "                    pa += a[i,j,k]**2\n",
    "    pa = pa / sz\n",
    "    return pa\n",
    "\n",
    "def am_energy(a):\n",
    "    pa = 0.0 \n",
    "    dim1 = a.shape\n",
    "    if len(dim1)==2:\n",
    "        sz = dim1[0] * dim1[1] \n",
    "        for i in range(dim1[0]):\n",
    "            for j in range(dim1[1]):\n",
    "                pa += a[i,j]**2\n",
    "    elif len(dim1)==3:\n",
    "        sz = dim1[0] * dim1[1] * dim1[2]\n",
    "        for i in range(dim1[0]):\n",
    "            for j in range(dim1[1]):\n",
    "                for k in range(dim1[2]):\n",
    "                    pa += a[i,j,k]**2\n",
    "    return pa"
   ]
  },
  {
   "cell_type": "code",
   "execution_count": null,
   "metadata": {},
   "outputs": [],
   "source": [
    "am_entropy(im), am_power(im), am_energy(im)"
   ]
  },
  {
   "cell_type": "code",
   "execution_count": null,
   "metadata": {},
   "outputs": [],
   "source": [
    "am_entropy(image1), am_power(image1), am_energy(image1)"
   ]
  },
  {
   "cell_type": "code",
   "execution_count": null,
   "metadata": {},
   "outputs": [],
   "source": [
    "am_entropy(image2), am_power(image2), am_energy(image2)"
   ]
  },
  {
   "cell_type": "markdown",
   "metadata": {},
   "source": [
    "### Can you find a way to calcuate the energy and power faster"
   ]
  },
  {
   "cell_type": "code",
   "execution_count": null,
   "metadata": {},
   "outputs": [],
   "source": [
    "# Modify your code here\n",
    "print('image power=', )\n",
    "print('image energy=', )\n"
   ]
  },
  {
   "cell_type": "markdown",
   "metadata": {},
   "source": [
    "### Apply this kernel1 on your image. Then apply it again. Visualize the images and calcuate the entropy, energy and power."
   ]
  },
  {
   "cell_type": "code",
   "execution_count": null,
   "metadata": {},
   "outputs": [],
   "source": [
    "# add your code here\n",
    "kernel1 = np.array([[18, 8, 0], \n",
    "                    [8, 1, -8],\n",
    "                    [0, -8, -18]])\n",
    "image3=\n",
    "image4=\n",
    "\n"
   ]
  },
  {
   "cell_type": "code",
   "execution_count": null,
   "metadata": {},
   "outputs": [],
   "source": [
    "fig,ax = plt.subplots(3,1, figsize=(10,20))\n",
    "ax[0].imshow(im)\n",
    "ax[1].imshow(image3)\n",
    "ax[2].imshow(image4)\n"
   ]
  }
 ],
 "metadata": {
  "kernelspec": {
   "display_name": "Python 3.9.13",
   "language": "python",
   "name": "python3"
  },
  "language_info": {
   "codemirror_mode": {
    "name": "ipython",
    "version": 3
   },
   "file_extension": ".py",
   "mimetype": "text/x-python",
   "name": "python",
   "nbconvert_exporter": "python",
   "pygments_lexer": "ipython3",
   "version": "3.9.13"
  },
  "orig_nbformat": 4,
  "vscode": {
   "interpreter": {
    "hash": "74a5f64ddd9e28f76452a947b7c216155d372e82d4ef5e83e3a46c003e8ae6ee"
   }
  }
 },
 "nbformat": 4,
 "nbformat_minor": 2
}
